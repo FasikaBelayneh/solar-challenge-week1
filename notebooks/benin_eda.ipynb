{
 "cells": [
  {
   "cell_type": "markdown",
   "id": "d9317cbb",
   "metadata": {},
   "source": [
    "# Benin Solar Data EDA\n",
    "Exploratory Data Analysis for the Benin solar dataset."
   ]
  },
  {
   "cell_type": "code",
   "execution_count": 4,
   "id": "0f9c13f6",
   "metadata": {},
   "outputs": [],
   "source": [
    "from charset_normalizer import detect\n",
    "import pandas as pd"
   ]
  },
  {
   "cell_type": "code",
   "execution_count": null,
   "id": "ce8e5f55",
   "metadata": {},
   "outputs": [
    {
     "name": "stdout",
     "output_type": "stream",
     "text": [
      "{'encoding': 'iso8859_16', 'language': 'English', 'confidence': 1.0}\n"
     ]
    }
   ],
   "source": [
    "\n",
    "\n",
    "\n",
    "with open('../data/solar-measurements_benin-malanville_qc.csv', 'rb') as file:\n",
    "    result = detect(file.read())\n",
    "    print(result)"
   ]
  },
  {
   "cell_type": "code",
   "execution_count": 5,
   "id": "50d14123",
   "metadata": {},
   "outputs": [
    {
     "name": "stderr",
     "output_type": "stream",
     "text": [
      "C:\\Users\\naomi.DESKTOP-T924HPN\\AppData\\Local\\Temp\\ipykernel_9688\\685020699.py:1: DtypeWarning: Columns (1,2,3,4,5,6,7,8,9,10,11,12,13,14,15,16,17) have mixed types. Specify dtype option on import or set low_memory=False.\n",
      "  df = pd.read_csv('../data/solar-measurements_benin-malanville_qc.csv', encoding='latin1')\n"
     ]
    }
   ],
   "source": [
    "\n",
    "df = pd.read_csv('../data/solar-measurements_benin-malanville_qc.csv', encoding='latin1')"
   ]
  },
  {
   "cell_type": "code",
   "execution_count": 6,
   "id": "6a939fb3",
   "metadata": {},
   "outputs": [
    {
     "name": "stdout",
     "output_type": "stream",
     "text": [
      "          Timestamp   GHI   DNI   DHI  ModA  ModB  Tamb    RH   WS WSgust  \\\n",
      "0  yyyy-mm-dd hh:mm  W/m²  W/m²  W/m²  W/m²  W/m²    °C     %  m/s    m/s   \n",
      "1  2021-08-09 00:01  -1.2  -0.2  -1.1     0     0  26.2  93.4    0    0.4   \n",
      "2  2021-08-09 00:02  -1.1  -0.2  -1.1     0     0  26.2  93.6    0      0   \n",
      "3  2021-08-09 00:03  -1.1  -0.2  -1.1     0     0  26.2  93.7  0.3    1.1   \n",
      "4  2021-08-09 00:04  -1.1  -0.1    -1     0     0  26.2  93.3  0.2    0.7   \n",
      "\n",
      "  WSstdev            WD WDstdev   BP Cleaning Precipitation TModA TModB  \\\n",
      "0     m/s  °N (to east)       °  hPa   1 or 0        mm/min    °C    °C   \n",
      "1     0.1         122.1       0  998        0             0  26.3  26.2   \n",
      "2       0             0       0  998        0             0  26.3  26.2   \n",
      "3     0.5         124.6     1.5  997        0             0  26.4  26.2   \n",
      "4     0.4         120.3     1.3  997        0             0  26.4  26.3   \n",
      "\n",
      "   Comments  \n",
      "0       NaN  \n",
      "1       NaN  \n",
      "2       NaN  \n",
      "3       NaN  \n",
      "4       NaN  \n",
      "\n",
      "Columns: ['Timestamp', 'GHI', 'DNI', 'DHI', 'ModA', 'ModB', 'Tamb', 'RH', 'WS', 'WSgust', 'WSstdev', 'WD', 'WDstdev', 'BP', 'Cleaning', 'Precipitation', 'TModA', 'TModB', 'Comments']\n"
     ]
    }
   ],
   "source": [
    "print(df.head())\n",
    "print(\"\\nColumns:\", df.columns.tolist())"
   ]
  },
  {
   "cell_type": "code",
   "execution_count": 7,
   "id": "f2023d99",
   "metadata": {},
   "outputs": [
    {
     "name": "stdout",
     "output_type": "stream",
     "text": [
      "       Comments\n",
      "count       0.0\n",
      "mean        NaN\n",
      "std         NaN\n",
      "min         NaN\n",
      "25%         NaN\n",
      "50%         NaN\n",
      "75%         NaN\n",
      "max         NaN\n"
     ]
    }
   ],
   "source": [
    "\n",
    "summary_stats = df.describe()\n",
    "print(summary_stats)"
   ]
  },
  {
   "cell_type": "code",
   "execution_count": 8,
   "id": "6b59390e",
   "metadata": {},
   "outputs": [
    {
     "name": "stdout",
     "output_type": "stream",
     "text": [
      "Missing Values:\n",
      " Timestamp             0\n",
      "GHI                   0\n",
      "DNI                   0\n",
      "DHI                   0\n",
      "ModA                  0\n",
      "ModB                  0\n",
      "Tamb                  0\n",
      "RH                    0\n",
      "WS                    0\n",
      "WSgust                0\n",
      "WSstdev               0\n",
      "WD                    0\n",
      "WDstdev               0\n",
      "BP                    0\n",
      "Cleaning              0\n",
      "Precipitation         0\n",
      "TModA                 0\n",
      "TModB                 0\n",
      "Comments         525601\n",
      "dtype: int64\n",
      "\n",
      "Columns with >5% missing values:\n",
      " Comments    100.0\n",
      "dtype: float64\n"
     ]
    }
   ],
   "source": [
    "# Missing values\n",
    "missing_values = df.isna().sum()\n",
    "missing_percent = (missing_values / len(df)) * 100\n",
    "print(\"Missing Values:\\n\", missing_values)\n",
    "print(\"\\nColumns with >5% missing values:\\n\", missing_percent[missing_percent > 5])"
   ]
  },
  {
   "cell_type": "code",
   "execution_count": null,
   "id": "79a604d5",
   "metadata": {},
   "outputs": [],
   "source": []
  }
 ],
 "metadata": {
  "kernelspec": {
   "display_name": "Python 3",
   "language": "python",
   "name": "python3"
  },
  "language_info": {
   "codemirror_mode": {
    "name": "ipython",
    "version": 3
   },
   "file_extension": ".py",
   "mimetype": "text/x-python",
   "name": "python",
   "nbconvert_exporter": "python",
   "pygments_lexer": "ipython3",
   "version": "3.10.11"
  }
 },
 "nbformat": 4,
 "nbformat_minor": 5
}
