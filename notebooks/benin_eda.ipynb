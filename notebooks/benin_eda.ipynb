{
 "cells": [
  {
   "cell_type": "markdown",
   "id": "d9317cbb",
   "metadata": {},
   "source": [
    "# Benin Solar Data EDA\n",
    "Exploratory Data Analysis for the Benin solar dataset (`solar-measurements_benin-malanville_qc.csv`)."
   ]
  },
  {
   "cell_type": "code",
   "execution_count": null,
   "id": "a456018c",
   "metadata": {
    "vscode": {
     "languageId": "plaintext"
    }
   },
   "outputs": [],
   "source": []
  }
 ],
 "metadata": {
  "language_info": {
   "name": "python"
  }
 },
 "nbformat": 4,
 "nbformat_minor": 5
}
