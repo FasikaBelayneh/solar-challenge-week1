{
 "cells": [
  {
   "cell_type": "markdown",
   "id": "2cdbbae1",
   "metadata": {},
   "source": [
    "# Cross-Country Solar Data Comparison\n",
    "Comparative analysis of GHI, DNI, and DHI across Benin, Sierra Leone, and Togo using cleaned datasets."
   ]
  },
  {
   "cell_type": "code",
   "execution_count": 7,
   "id": "a9bca60b",
   "metadata": {},
   "outputs": [],
   "source": [
    "import pandas as pd\n",
    "from scipy.stats import zscore\n",
    "import matplotlib.pyplot as plt\n",
    "import seaborn as sns\n",
    "from windrose import WindroseAxes"
   ]
  },
  {
   "cell_type": "code",
   "execution_count": 18,
   "id": "150cf422",
   "metadata": {},
   "outputs": [
    {
     "name": "stdout",
     "output_type": "stream",
     "text": [
      "Benin Sample:\n",
      "    GHI  DNI  DHI\n",
      "0 -1.2 -0.2 -1.1\n",
      "1 -1.1 -0.2 -1.1\n",
      "2 -1.1 -0.2 -1.1\n",
      "3 -1.1 -0.1 -1.0\n",
      "4 -1.0 -0.1 -1.0\n",
      "\n",
      "Sierra Leone Sample:\n",
      "    GHI  DNI  DHI\n",
      "0 -0.7 -0.1 -0.8\n",
      "1 -0.7 -0.1 -0.8\n",
      "2 -0.7 -0.1 -0.8\n",
      "3 -0.7  0.0 -0.8\n",
      "4 -0.7 -0.1 -0.8\n",
      "\n",
      "Togo Sample:\n",
      "    GHI  DNI  DHI\n",
      "0 -6.9 -0.1 -7.7\n",
      "1 -6.9 -0.1 -7.7\n",
      "2 -6.8 -0.1 -7.6\n",
      "3 -6.8 -0.1 -7.6\n",
      "4 -6.8 -0.1 -7.6\n",
      "\n",
      "Benin Stats:\n",
      "                  GHI            DNI            DHI\n",
      "count  525600.000000  525600.000000  525600.000000\n",
      "mean      240.559452     167.187516     115.358961\n",
      "std       331.131327     261.710501     158.691074\n",
      "min       -12.900000      -7.800000     -12.600000\n",
      "25%        -2.000000      -0.500000      -2.100000\n",
      "50%         1.800000      -0.100000       1.600000\n",
      "75%       483.400000     314.200000     216.300000\n",
      "max      1413.000000     952.300000     759.200000\n"
     ]
    }
   ],
   "source": [
    "import pandas as pd\n",
    "\n",
    "# Load cleaned datasets\n",
    "benin_df = pd.read_csv('../data/benin_clean.csv', encoding='latin1')\n",
    "sl_df = pd.read_csv('../data/sierraleone_clean.csv', encoding='latin1')\n",
    "togo_df = pd.read_csv('../data/togo_clean.csv', encoding='latin1')\n",
    "\n",
    "# Add Country column\n",
    "benin_df['Country'] = 'Benin'\n",
    "sl_df['Country'] = 'Sierra Leone'\n",
    "togo_df['Country'] = 'Togo'\n",
    "\n",
    "# Inspect each dataset\n",
    "print(\"Benin Sample:\\n\", benin_df[['GHI', 'DNI', 'DHI']].head())\n",
    "print(\"\\nSierra Leone Sample:\\n\", sl_df[['GHI', 'DNI', 'DHI']].head())\n",
    "print(\"\\nTogo Sample:\\n\", togo_df[['GHI', 'DNI', 'DHI']].head())\n",
    "print(\"\\nBenin Stats:\\n\", benin_df[['GHI', 'DNI', 'DHI']].describe())"
   ]
  }
 ],
 "metadata": {
  "kernelspec": {
   "display_name": "Python 3",
   "language": "python",
   "name": "python3"
  },
  "language_info": {
   "codemirror_mode": {
    "name": "ipython",
    "version": 3
   },
   "file_extension": ".py",
   "mimetype": "text/x-python",
   "name": "python",
   "nbconvert_exporter": "python",
   "pygments_lexer": "ipython3",
   "version": "3.10.11"
  }
 },
 "nbformat": 4,
 "nbformat_minor": 5
}
