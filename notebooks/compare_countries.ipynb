{
 "cells": [
  {
   "cell_type": "markdown",
   "id": "2cdbbae1",
   "metadata": {},
   "source": [
    "# Cross-Country Solar Data Comparison\n",
    "Comparative analysis of GHI, DNI, and DHI across Benin, Sierra Leone, and Togo using cleaned datasets."
   ]
  },
  {
   "cell_type": "code",
   "execution_count": null,
   "id": "a9bca60b",
   "metadata": {},
   "outputs": [],
   "source": []
  },
  {
   "cell_type": "code",
   "execution_count": null,
   "id": "2d7b73bf",
   "metadata": {},
   "outputs": [],
   "source": []
  }
 ],
 "metadata": {
  "language_info": {
   "name": "python"
  }
 },
 "nbformat": 4,
 "nbformat_minor": 5
}
