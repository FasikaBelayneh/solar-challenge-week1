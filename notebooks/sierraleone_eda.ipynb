{
 "cells": [
  {
   "cell_type": "markdown",
   "id": "3a01e499",
   "metadata": {},
   "source": [
    "# Sierra Leone Solar Data EDA\n",
    "Exploratory Data Analysis for the Sierra Leone solar dataset."
   ]
  },
  {
   "cell_type": "code",
   "execution_count": 2,
   "id": "d1e17655",
   "metadata": {},
   "outputs": [],
   "source": [
    "import pandas as pd\n",
    "\n"
   ]
  },
  {
   "cell_type": "code",
   "execution_count": 5,
   "id": "89a857f5",
   "metadata": {},
   "outputs": [],
   "source": [
    "# Load the dataset\n",
    "df = pd.read_csv('../data/solar-measurements_sierraleone-bumbuna_qc.csv', encoding='latin1', skiprows=[1])"
   ]
  },
  {
   "cell_type": "code",
   "execution_count": 6,
   "id": "da5af97a",
   "metadata": {},
   "outputs": [],
   "source": [
    "key_columns = ['GHI', 'DNI', 'DHI', 'ModA', 'ModB', 'WS', 'WSgust']\n",
    "for col in key_columns:\n",
    "    non_numeric = df[col][pd.to_numeric(df[col], errors='coerce').isna() & df[col].notna()]\n",
    "    if not non_numeric.empty:\n",
    "        print(f\"Non-numeric values in {col}:\\n\", non_numeric.unique())"
   ]
  },
  {
   "cell_type": "code",
   "execution_count": 7,
   "id": "d65c198f",
   "metadata": {},
   "outputs": [
    {
     "name": "stdout",
     "output_type": "stream",
     "text": [
      "                 GHI            DNI            DHI           ModA  \\\n",
      "count  525600.000000  525600.000000  525600.000000  525600.000000   \n",
      "mean      201.957515     116.376337     113.720571     206.643095   \n",
      "std       298.495150     218.652659     158.946032     300.896893   \n",
      "min       -19.500000      -7.800000     -17.900000       0.000000   \n",
      "25%        -2.800000      -0.300000      -3.800000       0.000000   \n",
      "50%         0.300000      -0.100000      -0.100000       3.600000   \n",
      "75%       362.400000     107.000000     224.700000     359.500000   \n",
      "max      1499.000000     946.000000     892.000000    1507.000000   \n",
      "\n",
      "                ModB           Tamb             RH             WS  \\\n",
      "count  525600.000000  525600.000000  525600.000000  525600.000000   \n",
      "mean      198.114691      26.319394      79.448857       1.146113   \n",
      "std       288.889073       4.398605      20.520775       1.239248   \n",
      "min         0.000000      12.300000       9.900000       0.000000   \n",
      "25%         0.000000      23.100000      68.700000       0.000000   \n",
      "50%         3.400000      25.300000      85.400000       0.800000   \n",
      "75%       345.400000      29.400000      96.700000       2.000000   \n",
      "max      1473.000000      39.900000     100.000000      19.200000   \n",
      "\n",
      "              WSgust        WSstdev             WD        WDstdev  \\\n",
      "count  525600.000000  525600.000000  525600.000000  525600.000000   \n",
      "mean        1.691606       0.363823     133.044668       7.172220   \n",
      "std         1.617053       0.295000     114.284792       7.535093   \n",
      "min         0.000000       0.000000       0.000000       0.000000   \n",
      "25%         0.000000       0.000000       0.000000       0.000000   \n",
      "50%         1.600000       0.400000     161.500000       6.200000   \n",
      "75%         2.600000       0.600000     234.100000      12.000000   \n",
      "max        23.900000       4.100000     360.000000      98.400000   \n",
      "\n",
      "                  BP       Cleaning  Precipitation          TModA  \\\n",
      "count  525600.000000  525600.000000  525600.000000  525600.000000   \n",
      "mean      999.876469       0.000967       0.004806      32.504263   \n",
      "std         2.104419       0.031074       0.047556      12.434899   \n",
      "min       993.000000       0.000000       0.000000      10.700000   \n",
      "25%       999.000000       0.000000       0.000000      23.500000   \n",
      "50%      1000.000000       0.000000       0.000000      26.600000   \n",
      "75%      1001.000000       0.000000       0.000000      40.900000   \n",
      "max      1006.000000       1.000000       2.400000      72.800000   \n",
      "\n",
      "               TModB  Comments  \n",
      "count  525600.000000       0.0  \n",
      "mean       32.593091       NaN  \n",
      "std        12.009161       NaN  \n",
      "min        11.100000       NaN  \n",
      "25%        23.800000       NaN  \n",
      "50%        26.900000       NaN  \n",
      "75%        41.300000       NaN  \n",
      "max        70.400000       NaN  \n"
     ]
    }
   ],
   "source": [
    "# Summary statistics\n",
    "summary_stats = df.describe()\n",
    "print(summary_stats)"
   ]
  },
  {
   "cell_type": "code",
   "execution_count": 8,
   "id": "b811f1e6",
   "metadata": {},
   "outputs": [
    {
     "name": "stdout",
     "output_type": "stream",
     "text": [
      "Missing Values:\n",
      " Timestamp             0\n",
      "GHI                   0\n",
      "DNI                   0\n",
      "DHI                   0\n",
      "ModA                  0\n",
      "ModB                  0\n",
      "Tamb                  0\n",
      "RH                    0\n",
      "WS                    0\n",
      "WSgust                0\n",
      "WSstdev               0\n",
      "WD                    0\n",
      "WDstdev               0\n",
      "BP                    0\n",
      "Cleaning              0\n",
      "Precipitation         0\n",
      "TModA                 0\n",
      "TModB                 0\n",
      "Comments         525600\n",
      "dtype: int64\n",
      "\n",
      "Columns with >5% missing values:\n",
      " Comments    100.0\n",
      "dtype: float64\n"
     ]
    }
   ],
   "source": [
    "# Missing values\n",
    "missing_values = df.isna().sum()\n",
    "missing_percent = (missing_values / len(df)) * 100\n",
    "print(\"Missing Values:\\n\", missing_values)\n",
    "print(\"\\nColumns with >5% missing values:\\n\", missing_percent[missing_percent > 5])"
   ]
  }
 ],
 "metadata": {
  "kernelspec": {
   "display_name": "Python 3",
   "language": "python",
   "name": "python3"
  },
  "language_info": {
   "codemirror_mode": {
    "name": "ipython",
    "version": 3
   },
   "file_extension": ".py",
   "mimetype": "text/x-python",
   "name": "python",
   "nbconvert_exporter": "python",
   "pygments_lexer": "ipython3",
   "version": "3.10.11"
  }
 },
 "nbformat": 4,
 "nbformat_minor": 5
}
