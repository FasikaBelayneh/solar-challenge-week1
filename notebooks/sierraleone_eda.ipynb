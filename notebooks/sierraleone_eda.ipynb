{
 "cells": [
  {
   "cell_type": "markdown",
   "id": "3a01e499",
   "metadata": {},
   "source": [
    "# Sierra Leone Solar Data EDA\n",
    "Exploratory Data Analysis for the Sierra Leone solar dataset."
   ]
  },
  {
   "cell_type": "code",
   "execution_count": null,
   "id": "d1e17655",
   "metadata": {},
   "outputs": [],
   "source": []
  }
 ],
 "metadata": {
  "kernelspec": {
   "display_name": "Python 3",
   "language": "python",
   "name": "python3"
  },
  "language_info": {
   "name": "python",
   "version": "3.10.11"
  }
 },
 "nbformat": 4,
 "nbformat_minor": 5
}
