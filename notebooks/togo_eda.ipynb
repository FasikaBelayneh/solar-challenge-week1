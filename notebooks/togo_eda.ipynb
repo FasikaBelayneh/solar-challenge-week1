{
 "cells": [
  {
   "cell_type": "markdown",
   "id": "8ab2fc62",
   "metadata": {},
   "source": [
    "# Togo Solar Data EDA\n",
    "Exploratory Data Analysis for the Togo solar dataset (`solar-measurements_togo-davie_qc_year2.csv`)."
   ]
  },
  {
   "cell_type": "code",
   "execution_count": null,
   "id": "7c36c79d",
   "metadata": {
    "vscode": {
     "languageId": "plaintext"
    }
   },
   "outputs": [],
   "source": []
  },
  {
   "cell_type": "code",
   "execution_count": null,
   "id": "cff3d026",
   "metadata": {
    "vscode": {
     "languageId": "plaintext"
    }
   },
   "outputs": [],
   "source": []
  },
  {
   "cell_type": "code",
   "execution_count": null,
   "id": "5e773930",
   "metadata": {
    "vscode": {
     "languageId": "plaintext"
    }
   },
   "outputs": [],
   "source": []
  }
 ],
 "metadata": {
  "language_info": {
   "name": "python"
  }
 },
 "nbformat": 4,
 "nbformat_minor": 5
}
