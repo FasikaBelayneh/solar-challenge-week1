{
 "cells": [
  {
   "cell_type": "markdown",
   "id": "8ab2fc62",
   "metadata": {},
   "source": [
    "# Togo Solar Data EDA\n",
    "Exploratory Data Analysis for the Togo solar dataset (`solar-measurements_togo-davie_qc_year2.csv`)."
   ]
  },
  {
   "cell_type": "code",
   "execution_count": 2,
   "id": "7c36c79d",
   "metadata": {},
   "outputs": [],
   "source": [
    "import pandas as pd\n",
    "\n"
   ]
  },
  {
   "cell_type": "code",
   "execution_count": 3,
   "id": "cff3d026",
   "metadata": {},
   "outputs": [
    {
     "name": "stderr",
     "output_type": "stream",
     "text": [
      "C:\\Users\\naomi.DESKTOP-T924HPN\\AppData\\Local\\Temp\\ipykernel_13416\\3561597335.py:2: DtypeWarning: Columns (1,2,3,4,5,6,7,8,9,10,11,12,13,14,15,16,17) have mixed types. Specify dtype option on import or set low_memory=False.\n",
      "  df = pd.read_csv('../data/solar-measurements_togo-davie_qc_year2.csv', encoding='latin1')\n"
     ]
    }
   ],
   "source": [
    "# Load the dataset\n",
    "df = pd.read_csv('../data/solar-measurements_togo-davie_qc_year2.csv', encoding='latin1')"
   ]
  },
  {
   "cell_type": "code",
   "execution_count": 4,
   "id": "5e773930",
   "metadata": {},
   "outputs": [
    {
     "name": "stdout",
     "output_type": "stream",
     "text": [
      "Non-numeric values in GHI:\n",
      " ['W/m²']\n",
      "Non-numeric values in DNI:\n",
      " ['W/m²']\n",
      "Non-numeric values in DHI:\n",
      " ['W/m²']\n",
      "Non-numeric values in ModA:\n",
      " ['W/m²']\n",
      "Non-numeric values in ModB:\n",
      " ['W/m²']\n",
      "Non-numeric values in WS:\n",
      " ['m/s']\n",
      "Non-numeric values in WSgust:\n",
      " ['m/s']\n"
     ]
    }
   ],
   "source": [
    "key_columns = ['GHI', 'DNI', 'DHI', 'ModA', 'ModB', 'WS', 'WSgust']\n",
    "for col in key_columns:\n",
    "    non_numeric = df[col][pd.to_numeric(df[col], errors='coerce').isna() & df[col].notna()]\n",
    "    if not non_numeric.empty:\n",
    "        print(f\"Non-numeric values in {col}:\\n\", non_numeric.unique())"
   ]
  },
  {
   "cell_type": "code",
   "execution_count": 5,
   "id": "226b31a6",
   "metadata": {},
   "outputs": [],
   "source": [
    "#Skip row with units (adjust skiprows based on inspection)\n",
    "df = pd.read_csv('../data/solar-measurements_togo-davie_qc_year2.csv', encoding='latin1', skiprows=[1])"
   ]
  },
  {
   "cell_type": "code",
   "execution_count": 6,
   "id": "f09ab690",
   "metadata": {},
   "outputs": [
    {
     "name": "stdout",
     "output_type": "stream",
     "text": [
      "                 GHI            DNI            DHI           ModA  \\\n",
      "count  525600.000000  525600.000000  525600.000000  525600.000000   \n",
      "mean      182.779890      91.332606     115.434585     172.802929   \n",
      "std       277.701199     191.253520     160.997564     259.295960   \n",
      "min       -13.000000     -10.800000     -12.500000       0.000000   \n",
      "25%        -3.700000      -0.300000      -3.900000       0.000000   \n",
      "50%         0.000000      -0.100000      -0.100000       3.200000   \n",
      "75%       315.100000      37.500000     232.200000     291.125000   \n",
      "max      1427.000000     925.000000     950.000000    1297.000000   \n",
      "\n",
      "                ModB           Tamb             RH             WS  \\\n",
      "count  525600.000000  525600.000000  525600.000000  525600.000000   \n",
      "mean      169.290888      26.949324      82.856382       1.723609   \n",
      "std       254.930392       3.325204      14.038370       1.262782   \n",
      "min         0.000000      18.200000      16.100000       0.000000   \n",
      "25%         0.000000      24.400000      75.800000       0.700000   \n",
      "50%         3.100000      26.000000      87.700000       1.700000   \n",
      "75%       284.000000      29.100000      93.500000       2.500000   \n",
      "max      1314.000000      38.400000      97.700000      15.000000   \n",
      "\n",
      "              WSgust        WSstdev             WD        WDstdev  \\\n",
      "count  525600.000000  525600.000000  525600.000000  525600.000000   \n",
      "mean        2.669253       0.578850     205.671161      13.309845   \n",
      "std         1.662471       0.300419      93.379100       9.126909   \n",
      "min         0.000000       0.000000       0.000000       0.000000   \n",
      "25%         1.600000       0.400000     189.900000       7.300000   \n",
      "50%         2.600000       0.600000     231.600000      13.100000   \n",
      "75%         3.600000       0.700000     264.100000      18.300000   \n",
      "max        20.400000       4.400000     360.000000      98.100000   \n",
      "\n",
      "                  BP       Cleaning  Precipitation          TModA  \\\n",
      "count  525600.000000  525600.000000  525600.000000  525600.000000   \n",
      "mean     1004.587405       0.001438       0.001983      31.235885   \n",
      "std         2.185992       0.037898       0.032620       9.622751   \n",
      "min       998.000000       0.000000       0.000000      16.000000   \n",
      "25%      1003.000000       0.000000       0.000000      24.200000   \n",
      "50%      1005.000000       0.000000       0.000000      26.100000   \n",
      "75%      1006.000000       0.000000       0.000000      37.700000   \n",
      "max      1011.000000       1.000000       2.400000      65.400000   \n",
      "\n",
      "               TModB  Comments  \n",
      "count  525600.000000       0.0  \n",
      "mean       31.144605       NaN  \n",
      "std         9.389194       NaN  \n",
      "min        16.000000       NaN  \n",
      "25%        24.300000       NaN  \n",
      "50%        26.200000       NaN  \n",
      "75%        37.400000       NaN  \n",
      "max        85.700000       NaN  \n"
     ]
    }
   ],
   "source": [
    "# Summary statistics\n",
    "summary_stats = df.describe()\n",
    "print(summary_stats)"
   ]
  },
  {
   "cell_type": "code",
   "execution_count": 7,
   "id": "2313c91d",
   "metadata": {},
   "outputs": [
    {
     "name": "stdout",
     "output_type": "stream",
     "text": [
      "Missing Values:\n",
      " Timestamp             0\n",
      "GHI                   0\n",
      "DNI                   0\n",
      "DHI                   0\n",
      "ModA                  0\n",
      "ModB                  0\n",
      "Tamb                  0\n",
      "RH                    0\n",
      "WS                    0\n",
      "WSgust                0\n",
      "WSstdev               0\n",
      "WD                    0\n",
      "WDstdev               0\n",
      "BP                    0\n",
      "Cleaning              0\n",
      "Precipitation         0\n",
      "TModA                 0\n",
      "TModB                 0\n",
      "Comments         525600\n",
      "dtype: int64\n",
      "\n",
      "Columns with >5% missing values:\n",
      " Comments    100.0\n",
      "dtype: float64\n"
     ]
    }
   ],
   "source": [
    "# Missing values\n",
    "missing_values = df.isna().sum()\n",
    "missing_percent = (missing_values / len(df)) * 100\n",
    "print(\"Missing Values:\\n\", missing_values)\n",
    "print(\"\\nColumns with >5% missing values:\\n\", missing_percent[missing_percent > 5])"
   ]
  },
  {
   "cell_type": "code",
   "execution_count": null,
   "id": "797fe80b",
   "metadata": {},
   "outputs": [],
   "source": []
  },
  {
   "cell_type": "code",
   "execution_count": null,
   "id": "3276bca9",
   "metadata": {},
   "outputs": [],
   "source": []
  }
 ],
 "metadata": {
  "kernelspec": {
   "display_name": "Python 3",
   "language": "python",
   "name": "python3"
  },
  "language_info": {
   "codemirror_mode": {
    "name": "ipython",
    "version": 3
   },
   "file_extension": ".py",
   "mimetype": "text/x-python",
   "name": "python",
   "nbconvert_exporter": "python",
   "pygments_lexer": "ipython3",
   "version": "3.10.11"
  }
 },
 "nbformat": 4,
 "nbformat_minor": 5
}
